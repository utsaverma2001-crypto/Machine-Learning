{
 "cells": [
  {
   "cell_type": "code",
   "execution_count": 1,
   "id": "d9b37588",
   "metadata": {},
   "outputs": [],
   "source": [
    "import numpy as np\n",
    "import pandas as pd\n",
    "import plotly as pl\n",
    "import plotly.offline as po\n",
    "import cufflinks as cf\n"
   ]
  },
  {
   "cell_type": "code",
   "execution_count": 2,
   "id": "1be47e44",
   "metadata": {},
   "outputs": [
    {
     "data": {
      "text/html": [
       "        <script type=\"text/javascript\">\n",
       "        window.PlotlyConfig = {MathJaxConfig: 'local'};\n",
       "        if (window.MathJax) {MathJax.Hub.Config({SVG: {font: \"STIX-Web\"}});}\n",
       "        if (typeof require !== 'undefined') {\n",
       "        require.undef(\"plotly\");\n",
       "        requirejs.config({\n",
       "            paths: {\n",
       "                'plotly': ['https://cdn.plot.ly/plotly-2.4.2.min']\n",
       "            }\n",
       "        });\n",
       "        require(['plotly'], function(Plotly) {\n",
       "            window._Plotly = Plotly;\n",
       "        });\n",
       "        }\n",
       "        </script>\n",
       "        "
      ]
     },
     "metadata": {},
     "output_type": "display_data"
    },
    {
     "data": {
      "text/html": [
       "        <script type=\"text/javascript\">\n",
       "        window.PlotlyConfig = {MathJaxConfig: 'local'};\n",
       "        if (window.MathJax) {MathJax.Hub.Config({SVG: {font: \"STIX-Web\"}});}\n",
       "        if (typeof require !== 'undefined') {\n",
       "        require.undef(\"plotly\");\n",
       "        requirejs.config({\n",
       "            paths: {\n",
       "                'plotly': ['https://cdn.plot.ly/plotly-2.4.2.min']\n",
       "            }\n",
       "        });\n",
       "        require(['plotly'], function(Plotly) {\n",
       "            window._Plotly = Plotly;\n",
       "        });\n",
       "        }\n",
       "        </script>\n",
       "        "
      ]
     },
     "metadata": {},
     "output_type": "display_data"
    }
   ],
   "source": [
    "po.init_notebook_mode(connected=True)\n",
    "cf.go_offline()"
   ]
  },
  {
   "cell_type": "code",
   "execution_count": 3,
   "id": "da9b8124",
   "metadata": {},
   "outputs": [],
   "source": [
    "def createdata(data):\n",
    "    if(data==1):\n",
    "        x=np.random.rand(100,5)\n",
    "        df1=pd.DataFrame(x,columns=['A','B','C','D','E'])\n",
    "    elif(data==2):\n",
    "        x=[0,0,0,0,0]\n",
    "        r1=[0,0,0,0,0]\n",
    "        r2=[0,0,0,0,0]\n",
    "        r3=[0,0,0,0,0]\n",
    "        r4=[0,0,0,0,0]\n",
    "        print('Enter the values of columns')\n",
    "        i=0\n",
    "        for i in [0,1,2,3,4]:\n",
    "            x[i]=input()\n",
    "            i=i+1\n",
    "        print('Enter the values for first row ')\n",
    "        for i in [0,1,2,3,4]:\n",
    "            r1[i]=int(input())\n",
    "            i=i+1\n",
    "        print('Enter the values for second row ')\n",
    "        for i in [0,1,2,3,4]:\n",
    "            r2[i]=int(input())\n",
    "            i=i+1\n",
    "        print('Enter the values of third row ')\n",
    "        for i in [0,1,2,3,4]:\n",
    "            r3[i]=int(input())\n",
    "            i=i+1\n",
    "        print('Enter the values of fourth row ')\n",
    "        for i in [0,1,2,3,4]:\n",
    "            r4[i]=int(input())\n",
    "            i=i+1   \n",
    "        df1=pd.DataFrame([r1,r2,r3,r4],columns=x)\n",
    "    elif(data==3):\n",
    "        file=input('Enter the file name ')\n",
    "        x=pd.read_csv(file)\n",
    "        df1=pd.DataFrame(x)\n",
    "    else:\n",
    "        print('Data Can not be created please re-enter the required value!! ')\n",
    "    return df1      \n",
    "                                    \n",
    "        \n",
    "    \n",
    "        "
   ]
  },
  {
   "cell_type": "code",
   "execution_count": 9,
   "id": "f665e776",
   "metadata": {},
   "outputs": [],
   "source": [
    "def plotter2(plot):\n",
    "    col=input('Enter the number of columns you want to plot by selectingg only 1 , 2 or 3 ')\n",
    "    col=int(col)\n",
    "    if(col==1):\n",
    "        colm=input('Enter the column you want to plot by selecting any column from DataFrame head ')\n",
    "        if(plot==1):\n",
    "            finalplot=df1[colm].iplot(kind='scatter')\n",
    "        elif(plot==2):\n",
    "            finalplot=df1[colm].iplot(kind='scatter',mode='markers',symbol='x',colorscale='paired')\n",
    "        elif(plot==3):\n",
    "            finalplot=df1[colm].iplot(kind='bar')\n",
    "        elif(plot==4):\n",
    "            finalplot=df1[colm].iplot(kind='hist')\n",
    "        elif(plot==5):\n",
    "            finalplot=df1[colm].iplot(kind='box')\n",
    "        elif(plot==6 or plot==7):\n",
    "            finalplot=print('Bubble plot and surface plot require more than one column arguments ')\n",
    "        else:\n",
    "            finalplot=print('Select only between 1 to 7 ')\n",
    "    \n",
    "    elif(col==2):\n",
    "        print('Enter the columns you want to plot by selecting any column from DataFrame head ')\n",
    "        x=input('First column ')\n",
    "        y=input('Second column ')\n",
    "        if(plot==1):\n",
    "            finalplot=df1[[x,y]].iplot(kind='scatter')\n",
    "        elif(plot==2):\n",
    "            finalplot=df1[[x,y]].iplot(kind='scatter',mode='markers',symbol='x',colorscale='paired')\n",
    "        elif(plot==3):\n",
    "            finalplot=df1[[x,y]].iplot(kind='bar')\n",
    "        elif(plot==4):\n",
    "            finalplot=df1[[x,y]].iplot(kind='hist')\n",
    "        elif(plot==5):\n",
    "            finalplot=df1[[x,y]].iplot(kind='box')\n",
    "        elif(plot==6):\n",
    "            finalplot=df1[[x,y]].iplot(kind='surface')\n",
    "        elif(plot==7):\n",
    "            size=input('Please enter the size column for bubble plot ')\n",
    "            finalplot=df1.iplot(kind='bubble',x=x,y=y,size=size)\n",
    "        else:\n",
    "            finalplot=print('Select only between 1 to 7 ')\n",
    "    \n",
    "    elif(col==3):\n",
    "        print('Enter the columns you want to plot by selecting any column from DataFrame head ')\n",
    "        x=input('First column ')\n",
    "        y=input('Second column ')\n",
    "        z=input('Third column ')\n",
    "        if(plot==1):\n",
    "            finalplot=df1[[x,y,z]].iplot(kind='scatter')\n",
    "        elif(plot==2):\n",
    "            finalplot=df1[[x,y,z]].iplot(kind='scatter',mode='markers',symbol='x',colorscale='paired')\n",
    "        elif(plot==3):\n",
    "            finalplot=df1[[x,y,z]].iplot(kind='bar')\n",
    "        elif(plot==4):\n",
    "            finalplot=df1[[x,y,z]].iplot(kind='hist')\n",
    "        elif(plot==5):\n",
    "            finalplot=df1[[x,y,z]].iplot(kind='box')\n",
    "        elif(plot==6):\n",
    "            finalplot=df1[[x,y,z]].iplot(kind='surface')\n",
    "        elif(plot==7):\n",
    "            size=input('Please enter the size column for bubble plot ')\n",
    "            finalplot=df1.iplot(kind='bubble',x=x,y=y,z=z,size=size)\n",
    "        else:\n",
    "            finalplot=print('Select only between 1 to 7 ')\n",
    "    \n",
    "    else:\n",
    "        finalplot=print('Please enter only 1 , 2 or 3 ')\n",
    "              \n",
    "\n",
    "        \n",
    "        \n",
    "    \n",
    "    \n",
    "        \n",
    "        \n",
    "    \n",
    "          \n",
    "\n",
    "        \n",
    "        \n",
    "    \n",
    "    \n",
    "        \n",
    "        \n",
    "    \n",
    "    "
   ]
  },
  {
   "cell_type": "code",
   "execution_count": 4,
   "id": "9821c602",
   "metadata": {},
   "outputs": [],
   "source": [
    "def plotter(plot):\n",
    "    if(plot==1):\n",
    "        finalplot=df1.iplot(kind='scatter')\n",
    "    elif(plot==2):\n",
    "        finalplot=df1.iplot(kind='scatter',mode='markers',symbol='x',colorscale='paired')\n",
    "    elif(plot==3):\n",
    "        finalplot=df1.iplot(kind='bar')\n",
    "    elif(plot==4):\n",
    "        finalplot=df1.iplot(kind='hist')\n",
    "    elif(plot==5):\n",
    "        finalplot=df1.iplot(kind='box')\n",
    "    elif(plot==6):\n",
    "        finalplot=df1.iplot(kind='surface')\n",
    "    else:\n",
    "        finalplot=print('Select only between 1 to 6 ')\n",
    "    \n",
    "    return finalplot\n",
    "        \n",
    "    \n",
    "    "
   ]
  },
  {
   "cell_type": "code",
   "execution_count": 5,
   "id": "98b4d3a0",
   "metadata": {},
   "outputs": [],
   "source": [
    "def main(cat):\n",
    "    if(cat==1):\n",
    "        print('Select the type of plot you need to plot by writing 1 to 6 ')\n",
    "        print('1. Line Plot')\n",
    "        print('2. Scatter plot')\n",
    "        print('3. Bar Plot')\n",
    "        print('4. Histogram')\n",
    "        print('5. Box Plot')\n",
    "        print('6. Surface Plot')\n",
    "        plot=int(input())\n",
    "        output=plotter(plot)\n",
    "    elif(cat==2):\n",
    "        print('Select the type of plot you need to plot by writing 1 to 7 ')\n",
    "        print('1. Line Plot')\n",
    "        print('2. Scatter plot')\n",
    "        print('3. Bar Plot')\n",
    "        print('4. Histogram')\n",
    "        print('5. Box Plot')\n",
    "        print('6. Surface Plot')\n",
    "        print('7. Bubble Plot')\n",
    "        plot=int(input())\n",
    "        output=plotter2(plot)\n",
    "    else:\n",
    "        print('Please Enter 1 or 2 !! ')\n",
    "    \n",
    "        "
   ]
  },
  {
   "cell_type": "code",
   "execution_count": 10,
   "id": "3a8d3860",
   "metadata": {},
   "outputs": [
    {
     "name": "stdout",
     "output_type": "stream",
     "text": [
      "Select the type of Data you want to plot (by selecting 1,2 or 3 )\n",
      "1. Random data with 100 rows and 5 columns \n",
      "2. Customize DataFrame with 5 columns and 4 rows \n",
      "3. Upload csv/json/txt file\n",
      "1\n"
     ]
    }
   ],
   "source": [
    "print('Select the type of Data you want to plot (by selecting 1,2 or 3 )')\n",
    "print('1. Random data with 100 rows and 5 columns ')\n",
    "print('2. Customize DataFrame with 5 columns and 4 rows ')\n",
    "print('3. Upload csv/json/txt file')\n",
    "data=int(input())\n",
    "df1=createdata(data)"
   ]
  },
  {
   "cell_type": "code",
   "execution_count": null,
   "id": "4ad0019f",
   "metadata": {},
   "outputs": [],
   "source": []
  },
  {
   "cell_type": "markdown",
   "id": "21f3780c",
   "metadata": {},
   "source": []
  },
  {
   "cell_type": "code",
   "execution_count": 11,
   "id": "2ecb1f23",
   "metadata": {},
   "outputs": [
    {
     "name": "stdout",
     "output_type": "stream",
     "text": [
      "Your dataFrame head is given below check the columns to plot using cufflinks \n"
     ]
    },
    {
     "data": {
      "text/html": [
       "<div>\n",
       "<style scoped>\n",
       "    .dataframe tbody tr th:only-of-type {\n",
       "        vertical-align: middle;\n",
       "    }\n",
       "\n",
       "    .dataframe tbody tr th {\n",
       "        vertical-align: top;\n",
       "    }\n",
       "\n",
       "    .dataframe thead th {\n",
       "        text-align: right;\n",
       "    }\n",
       "</style>\n",
       "<table border=\"1\" class=\"dataframe\">\n",
       "  <thead>\n",
       "    <tr style=\"text-align: right;\">\n",
       "      <th></th>\n",
       "      <th>A</th>\n",
       "      <th>B</th>\n",
       "      <th>C</th>\n",
       "      <th>D</th>\n",
       "      <th>E</th>\n",
       "    </tr>\n",
       "  </thead>\n",
       "  <tbody>\n",
       "    <tr>\n",
       "      <th>0</th>\n",
       "      <td>0.300108</td>\n",
       "      <td>0.801402</td>\n",
       "      <td>0.816225</td>\n",
       "      <td>0.160384</td>\n",
       "      <td>0.992507</td>\n",
       "    </tr>\n",
       "    <tr>\n",
       "      <th>1</th>\n",
       "      <td>0.442665</td>\n",
       "      <td>0.105890</td>\n",
       "      <td>0.962288</td>\n",
       "      <td>0.396864</td>\n",
       "      <td>0.247393</td>\n",
       "    </tr>\n",
       "    <tr>\n",
       "      <th>2</th>\n",
       "      <td>0.393112</td>\n",
       "      <td>0.324004</td>\n",
       "      <td>0.864760</td>\n",
       "      <td>0.894189</td>\n",
       "      <td>0.687102</td>\n",
       "    </tr>\n",
       "    <tr>\n",
       "      <th>3</th>\n",
       "      <td>0.210564</td>\n",
       "      <td>0.444758</td>\n",
       "      <td>0.913257</td>\n",
       "      <td>0.822291</td>\n",
       "      <td>0.318581</td>\n",
       "    </tr>\n",
       "    <tr>\n",
       "      <th>4</th>\n",
       "      <td>0.837548</td>\n",
       "      <td>0.306941</td>\n",
       "      <td>0.308466</td>\n",
       "      <td>0.607750</td>\n",
       "      <td>0.281410</td>\n",
       "    </tr>\n",
       "  </tbody>\n",
       "</table>\n",
       "</div>"
      ],
      "text/plain": [
       "          A         B         C         D         E\n",
       "0  0.300108  0.801402  0.816225  0.160384  0.992507\n",
       "1  0.442665  0.105890  0.962288  0.396864  0.247393\n",
       "2  0.393112  0.324004  0.864760  0.894189  0.687102\n",
       "3  0.210564  0.444758  0.913257  0.822291  0.318581\n",
       "4  0.837548  0.306941  0.308466  0.607750  0.281410"
      ]
     },
     "execution_count": 11,
     "metadata": {},
     "output_type": "execute_result"
    }
   ],
   "source": [
    "print('Your dataFrame head is given below check the columns to plot using cufflinks ')\n",
    "df1.head()"
   ]
  },
  {
   "cell_type": "code",
   "execution_count": 16,
   "id": "7c28cc1e",
   "metadata": {},
   "outputs": [
    {
     "name": "stdout",
     "output_type": "stream",
     "text": [
      "What kind of plot you need, the complete data plot or columns plot \n",
      "Press 1 for plotting all columns or Press 2 for specifying columns to plot 2\n"
     ]
    }
   ],
   "source": [
    "print('What kind of plot you need, the complete data plot or columns plot ')\n",
    "cat=input('Press 1 for plotting all columns or Press 2 for specifying columns to plot ')\n",
    "cat=int(cat)"
   ]
  },
  {
   "cell_type": "code",
   "execution_count": 17,
   "id": "66abdf8c",
   "metadata": {},
   "outputs": [
    {
     "name": "stdout",
     "output_type": "stream",
     "text": [
      "Select the type of plot you need to plot by writing 1 to 7 \n",
      "1. Line Plot\n",
      "2. Scatter plot\n",
      "3. Bar Plot\n",
      "4. Histogram\n",
      "5. Box Plot\n",
      "6. Surface Plot\n",
      "7. Bubble Plot\n",
      "6\n",
      "Enter the number of columns you want to plot by selectingg only 1 , 2 or 3 2\n",
      "Enter the columns you want to plot by selecting any column from DataFrame head \n",
      "First column A\n",
      "Second column C\n"
     ]
    },
    {
     "data": {
      "application/vnd.plotly.v1+json": {
       "config": {
        "linkText": "Export to plot.ly",
        "plotlyServerURL": "https://plot.ly",
        "showLink": true
       },
       "data": [
        {
         "colorscale": [
          [
           0,
           "rgb(255, 153, 51)"
          ],
          [
           0.1111111111111111,
           "rgb(55, 128, 191)"
          ],
          [
           0.2222222222222222,
           "rgb(50, 171, 96)"
          ],
          [
           0.3333333333333333,
           "rgb(128, 0, 128)"
          ],
          [
           0.4444444444444444,
           "rgb(219, 64, 82)"
          ],
          [
           0.5555555555555556,
           "rgb(0, 128, 128)"
          ],
          [
           0.6666666666666666,
           "rgb(255, 255, 51)"
          ],
          [
           0.7777777777777778,
           "rgb(128, 128, 0)"
          ],
          [
           0.8888888888888888,
           "rgb(251, 128, 114)"
          ],
          [
           1,
           "rgb(128, 177, 211)"
          ]
         ],
         "type": "surface",
         "x": [
          0,
          1,
          2,
          3,
          4,
          5,
          6,
          7,
          8,
          9,
          10,
          11,
          12,
          13,
          14,
          15,
          16,
          17,
          18,
          19,
          20,
          21,
          22,
          23,
          24,
          25,
          26,
          27,
          28,
          29,
          30,
          31,
          32,
          33,
          34,
          35,
          36,
          37,
          38,
          39,
          40,
          41,
          42,
          43,
          44,
          45,
          46,
          47,
          48,
          49,
          50,
          51,
          52,
          53,
          54,
          55,
          56,
          57,
          58,
          59,
          60,
          61,
          62,
          63,
          64,
          65,
          66,
          67,
          68,
          69,
          70,
          71,
          72,
          73,
          74,
          75,
          76,
          77,
          78,
          79,
          80,
          81,
          82,
          83,
          84,
          85,
          86,
          87,
          88,
          89,
          90,
          91,
          92,
          93,
          94,
          95,
          96,
          97,
          98,
          99
         ],
         "y": [
          "A",
          "C"
         ],
         "z": [
          [
           0.3001079680036066,
           0.44266496554311197,
           0.3931115055668375,
           0.2105639117205932,
           0.8375484938456841,
           0.12603745921575926,
           0.4889574761062154,
           0.4624233276977576,
           0.4240246700813709,
           0.9437534212847856,
           0.18125493664363623,
           0.7466724863328661,
           0.9117098271114428,
           0.8479455805828163,
           0.5194638581849347,
           0.8093357455305831,
           0.3975578811356747,
           0.8199106021817028,
           0.4844634946102564,
           0.845784729853387,
           0.22165154549868726,
           0.8696387506154775,
           0.18082660599491862,
           0.18351406745671384,
           0.865362718970213,
           0.3283462666487683,
           0.47668585631273475,
           0.06412582919362642,
           0.7169334558129548,
           0.6570005381785875,
           0.3133430036537187,
           0.7535830701905505,
           0.13867469961943368,
           0.03947952994516324,
           0.633297165020249,
           0.5286638282956272,
           0.8754637427040448,
           0.6921580678546031,
           0.3842047590038429,
           0.9081593826555322,
           0.8210059468954076,
           0.4306227874753925,
           0.06724112161662099,
           0.6112539531953903,
           0.6780106819266348,
           0.9661363961239782,
           0.6648489757717398,
           0.7995656401764207,
           0.17193952650528888,
           0.32266722629007016,
           0.8945030092515607,
           0.7618273377073761,
           0.06339271674450664,
           0.5955627289220463,
           0.7219172010345682,
           0.3962615688468949,
           0.7239644495100861,
           0.8993195014578762,
           0.5050549702772239,
           0.8080632917970997,
           0.15791801474909628,
           0.9533831631764683,
           0.7206986562438692,
           0.21366652372460604,
           0.45854129123788245,
           0.19623168803688684,
           0.4720350993916801,
           0.36135407633462624,
           0.2615803072527014,
           0.912463990411242,
           0.6627313639000009,
           0.7855531096232712,
           0.7264154756295995,
           0.8059427291381719,
           0.47039721147070046,
           0.5497212328060499,
           0.24270513424592255,
           0.3402678681834055,
           0.25847026946859564,
           0.503217625852641,
           0.6316569378776774,
           0.09500003189853579,
           0.8743231116026394,
           0.8580649773292277,
           0.30117856616442606,
           0.28941786166135275,
           0.29640700742418735,
           0.49928141065302445,
           0.8041820582857947,
           0.922359783085822,
           0.6917412907094008,
           0.8739346508098393,
           0.5260779689621599,
           0.3034901655538449,
           0.6390414462621012,
           0.7682673704030689,
           0.48806290005520425,
           0.13097553280655183,
           0.2623883955189321,
           0.6896610387986376
          ],
          [
           0.8162247732021412,
           0.9622881834174966,
           0.8647596551005858,
           0.9132565754744489,
           0.3084655030938198,
           0.054592002588126576,
           0.6469507520982797,
           0.8378163022814341,
           0.6292269793173987,
           0.18269260007046995,
           0.4249362731988938,
           0.7250994270816271,
           0.7693113243963058,
           0.272484341459878,
           0.8674558029788304,
           0.6479969642059042,
           0.38701623871553303,
           0.3732978155303146,
           0.671475957019754,
           0.1139851019637741,
           0.6230516302694318,
           0.717680965147726,
           0.13191637710577897,
           0.6799120232143154,
           0.5906878829728975,
           0.744871717217073,
           0.9715964299329302,
           0.2123435655017939,
           0.13261069615490872,
           0.6353810221135698,
           0.367920891450464,
           0.2901659240947174,
           0.7479828354821019,
           0.766485587585118,
           0.6559258982561639,
           0.22808003489851336,
           0.09538992250486655,
           0.6766571546154883,
           0.8690213501639494,
           0.6742017900974286,
           0.48842101016975203,
           0.8709385778228315,
           0.7762693191421255,
           0.5474230498484705,
           0.47088626110001175,
           0.9884577402355187,
           0.730294045369087,
           0.7510989815909904,
           0.5852477005919824,
           0.6829314845016041,
           0.05828550052827919,
           0.023785874523379325,
           0.5952659530551355,
           0.23696452335862905,
           0.4062877606189188,
           0.36879835248494297,
           0.12493482923332799,
           0.9027567540259495,
           0.807367823455211,
           0.1443683583444635,
           0.8898615880391576,
           0.180100142011425,
           0.5650744776304879,
           0.3025737603521824,
           0.8287672213494954,
           0.8021688877591904,
           0.15451411765335443,
           0.11961567521369998,
           0.39759109452809405,
           0.11903645244509864,
           0.3523930570030639,
           0.5549320282831595,
           0.5956219783857617,
           0.9022207574676057,
           0.6065827238060318,
           0.3515157265759149,
           0.008958711216787263,
           0.858658265663318,
           0.6698362436988552,
           0.6292153046530548,
           0.4667280667288325,
           0.8043317968745893,
           0.5908319849994939,
           0.027312557113323477,
           0.45688103991882345,
           0.38129158166256405,
           0.6204875199273598,
           0.12235791982707123,
           0.41677489864490336,
           0.5526106222775273,
           0.8271699628593884,
           0.8010000660674927,
           0.7583113715856562,
           0.7708561517126076,
           0.0013444160435543973,
           0.6389189037323136,
           0.5991939617227071,
           0.8651887521524549,
           0.6294617241169079,
           0.047727928297942035
          ]
         ]
        }
       ],
       "layout": {
        "legend": {
         "bgcolor": "#F5F6F9",
         "font": {
          "color": "#4D5663"
         }
        },
        "paper_bgcolor": "#F5F6F9",
        "plot_bgcolor": "#F5F6F9",
        "template": {
         "data": {
          "bar": [
           {
            "error_x": {
             "color": "#2a3f5f"
            },
            "error_y": {
             "color": "#2a3f5f"
            },
            "marker": {
             "line": {
              "color": "#E5ECF6",
              "width": 0.5
             },
             "pattern": {
              "fillmode": "overlay",
              "size": 10,
              "solidity": 0.2
             }
            },
            "type": "bar"
           }
          ],
          "barpolar": [
           {
            "marker": {
             "line": {
              "color": "#E5ECF6",
              "width": 0.5
             },
             "pattern": {
              "fillmode": "overlay",
              "size": 10,
              "solidity": 0.2
             }
            },
            "type": "barpolar"
           }
          ],
          "carpet": [
           {
            "aaxis": {
             "endlinecolor": "#2a3f5f",
             "gridcolor": "white",
             "linecolor": "white",
             "minorgridcolor": "white",
             "startlinecolor": "#2a3f5f"
            },
            "baxis": {
             "endlinecolor": "#2a3f5f",
             "gridcolor": "white",
             "linecolor": "white",
             "minorgridcolor": "white",
             "startlinecolor": "#2a3f5f"
            },
            "type": "carpet"
           }
          ],
          "choropleth": [
           {
            "colorbar": {
             "outlinewidth": 0,
             "ticks": ""
            },
            "type": "choropleth"
           }
          ],
          "contour": [
           {
            "colorbar": {
             "outlinewidth": 0,
             "ticks": ""
            },
            "colorscale": [
             [
              0,
              "#0d0887"
             ],
             [
              0.1111111111111111,
              "#46039f"
             ],
             [
              0.2222222222222222,
              "#7201a8"
             ],
             [
              0.3333333333333333,
              "#9c179e"
             ],
             [
              0.4444444444444444,
              "#bd3786"
             ],
             [
              0.5555555555555556,
              "#d8576b"
             ],
             [
              0.6666666666666666,
              "#ed7953"
             ],
             [
              0.7777777777777778,
              "#fb9f3a"
             ],
             [
              0.8888888888888888,
              "#fdca26"
             ],
             [
              1,
              "#f0f921"
             ]
            ],
            "type": "contour"
           }
          ],
          "contourcarpet": [
           {
            "colorbar": {
             "outlinewidth": 0,
             "ticks": ""
            },
            "type": "contourcarpet"
           }
          ],
          "heatmap": [
           {
            "colorbar": {
             "outlinewidth": 0,
             "ticks": ""
            },
            "colorscale": [
             [
              0,
              "#0d0887"
             ],
             [
              0.1111111111111111,
              "#46039f"
             ],
             [
              0.2222222222222222,
              "#7201a8"
             ],
             [
              0.3333333333333333,
              "#9c179e"
             ],
             [
              0.4444444444444444,
              "#bd3786"
             ],
             [
              0.5555555555555556,
              "#d8576b"
             ],
             [
              0.6666666666666666,
              "#ed7953"
             ],
             [
              0.7777777777777778,
              "#fb9f3a"
             ],
             [
              0.8888888888888888,
              "#fdca26"
             ],
             [
              1,
              "#f0f921"
             ]
            ],
            "type": "heatmap"
           }
          ],
          "heatmapgl": [
           {
            "colorbar": {
             "outlinewidth": 0,
             "ticks": ""
            },
            "colorscale": [
             [
              0,
              "#0d0887"
             ],
             [
              0.1111111111111111,
              "#46039f"
             ],
             [
              0.2222222222222222,
              "#7201a8"
             ],
             [
              0.3333333333333333,
              "#9c179e"
             ],
             [
              0.4444444444444444,
              "#bd3786"
             ],
             [
              0.5555555555555556,
              "#d8576b"
             ],
             [
              0.6666666666666666,
              "#ed7953"
             ],
             [
              0.7777777777777778,
              "#fb9f3a"
             ],
             [
              0.8888888888888888,
              "#fdca26"
             ],
             [
              1,
              "#f0f921"
             ]
            ],
            "type": "heatmapgl"
           }
          ],
          "histogram": [
           {
            "marker": {
             "pattern": {
              "fillmode": "overlay",
              "size": 10,
              "solidity": 0.2
             }
            },
            "type": "histogram"
           }
          ],
          "histogram2d": [
           {
            "colorbar": {
             "outlinewidth": 0,
             "ticks": ""
            },
            "colorscale": [
             [
              0,
              "#0d0887"
             ],
             [
              0.1111111111111111,
              "#46039f"
             ],
             [
              0.2222222222222222,
              "#7201a8"
             ],
             [
              0.3333333333333333,
              "#9c179e"
             ],
             [
              0.4444444444444444,
              "#bd3786"
             ],
             [
              0.5555555555555556,
              "#d8576b"
             ],
             [
              0.6666666666666666,
              "#ed7953"
             ],
             [
              0.7777777777777778,
              "#fb9f3a"
             ],
             [
              0.8888888888888888,
              "#fdca26"
             ],
             [
              1,
              "#f0f921"
             ]
            ],
            "type": "histogram2d"
           }
          ],
          "histogram2dcontour": [
           {
            "colorbar": {
             "outlinewidth": 0,
             "ticks": ""
            },
            "colorscale": [
             [
              0,
              "#0d0887"
             ],
             [
              0.1111111111111111,
              "#46039f"
             ],
             [
              0.2222222222222222,
              "#7201a8"
             ],
             [
              0.3333333333333333,
              "#9c179e"
             ],
             [
              0.4444444444444444,
              "#bd3786"
             ],
             [
              0.5555555555555556,
              "#d8576b"
             ],
             [
              0.6666666666666666,
              "#ed7953"
             ],
             [
              0.7777777777777778,
              "#fb9f3a"
             ],
             [
              0.8888888888888888,
              "#fdca26"
             ],
             [
              1,
              "#f0f921"
             ]
            ],
            "type": "histogram2dcontour"
           }
          ],
          "mesh3d": [
           {
            "colorbar": {
             "outlinewidth": 0,
             "ticks": ""
            },
            "type": "mesh3d"
           }
          ],
          "parcoords": [
           {
            "line": {
             "colorbar": {
              "outlinewidth": 0,
              "ticks": ""
             }
            },
            "type": "parcoords"
           }
          ],
          "pie": [
           {
            "automargin": true,
            "type": "pie"
           }
          ],
          "scatter": [
           {
            "marker": {
             "colorbar": {
              "outlinewidth": 0,
              "ticks": ""
             }
            },
            "type": "scatter"
           }
          ],
          "scatter3d": [
           {
            "line": {
             "colorbar": {
              "outlinewidth": 0,
              "ticks": ""
             }
            },
            "marker": {
             "colorbar": {
              "outlinewidth": 0,
              "ticks": ""
             }
            },
            "type": "scatter3d"
           }
          ],
          "scattercarpet": [
           {
            "marker": {
             "colorbar": {
              "outlinewidth": 0,
              "ticks": ""
             }
            },
            "type": "scattercarpet"
           }
          ],
          "scattergeo": [
           {
            "marker": {
             "colorbar": {
              "outlinewidth": 0,
              "ticks": ""
             }
            },
            "type": "scattergeo"
           }
          ],
          "scattergl": [
           {
            "marker": {
             "colorbar": {
              "outlinewidth": 0,
              "ticks": ""
             }
            },
            "type": "scattergl"
           }
          ],
          "scattermapbox": [
           {
            "marker": {
             "colorbar": {
              "outlinewidth": 0,
              "ticks": ""
             }
            },
            "type": "scattermapbox"
           }
          ],
          "scatterpolar": [
           {
            "marker": {
             "colorbar": {
              "outlinewidth": 0,
              "ticks": ""
             }
            },
            "type": "scatterpolar"
           }
          ],
          "scatterpolargl": [
           {
            "marker": {
             "colorbar": {
              "outlinewidth": 0,
              "ticks": ""
             }
            },
            "type": "scatterpolargl"
           }
          ],
          "scatterternary": [
           {
            "marker": {
             "colorbar": {
              "outlinewidth": 0,
              "ticks": ""
             }
            },
            "type": "scatterternary"
           }
          ],
          "surface": [
           {
            "colorbar": {
             "outlinewidth": 0,
             "ticks": ""
            },
            "colorscale": [
             [
              0,
              "#0d0887"
             ],
             [
              0.1111111111111111,
              "#46039f"
             ],
             [
              0.2222222222222222,
              "#7201a8"
             ],
             [
              0.3333333333333333,
              "#9c179e"
             ],
             [
              0.4444444444444444,
              "#bd3786"
             ],
             [
              0.5555555555555556,
              "#d8576b"
             ],
             [
              0.6666666666666666,
              "#ed7953"
             ],
             [
              0.7777777777777778,
              "#fb9f3a"
             ],
             [
              0.8888888888888888,
              "#fdca26"
             ],
             [
              1,
              "#f0f921"
             ]
            ],
            "type": "surface"
           }
          ],
          "table": [
           {
            "cells": {
             "fill": {
              "color": "#EBF0F8"
             },
             "line": {
              "color": "white"
             }
            },
            "header": {
             "fill": {
              "color": "#C8D4E3"
             },
             "line": {
              "color": "white"
             }
            },
            "type": "table"
           }
          ]
         },
         "layout": {
          "annotationdefaults": {
           "arrowcolor": "#2a3f5f",
           "arrowhead": 0,
           "arrowwidth": 1
          },
          "autotypenumbers": "strict",
          "coloraxis": {
           "colorbar": {
            "outlinewidth": 0,
            "ticks": ""
           }
          },
          "colorscale": {
           "diverging": [
            [
             0,
             "#8e0152"
            ],
            [
             0.1,
             "#c51b7d"
            ],
            [
             0.2,
             "#de77ae"
            ],
            [
             0.3,
             "#f1b6da"
            ],
            [
             0.4,
             "#fde0ef"
            ],
            [
             0.5,
             "#f7f7f7"
            ],
            [
             0.6,
             "#e6f5d0"
            ],
            [
             0.7,
             "#b8e186"
            ],
            [
             0.8,
             "#7fbc41"
            ],
            [
             0.9,
             "#4d9221"
            ],
            [
             1,
             "#276419"
            ]
           ],
           "sequential": [
            [
             0,
             "#0d0887"
            ],
            [
             0.1111111111111111,
             "#46039f"
            ],
            [
             0.2222222222222222,
             "#7201a8"
            ],
            [
             0.3333333333333333,
             "#9c179e"
            ],
            [
             0.4444444444444444,
             "#bd3786"
            ],
            [
             0.5555555555555556,
             "#d8576b"
            ],
            [
             0.6666666666666666,
             "#ed7953"
            ],
            [
             0.7777777777777778,
             "#fb9f3a"
            ],
            [
             0.8888888888888888,
             "#fdca26"
            ],
            [
             1,
             "#f0f921"
            ]
           ],
           "sequentialminus": [
            [
             0,
             "#0d0887"
            ],
            [
             0.1111111111111111,
             "#46039f"
            ],
            [
             0.2222222222222222,
             "#7201a8"
            ],
            [
             0.3333333333333333,
             "#9c179e"
            ],
            [
             0.4444444444444444,
             "#bd3786"
            ],
            [
             0.5555555555555556,
             "#d8576b"
            ],
            [
             0.6666666666666666,
             "#ed7953"
            ],
            [
             0.7777777777777778,
             "#fb9f3a"
            ],
            [
             0.8888888888888888,
             "#fdca26"
            ],
            [
             1,
             "#f0f921"
            ]
           ]
          },
          "colorway": [
           "#636efa",
           "#EF553B",
           "#00cc96",
           "#ab63fa",
           "#FFA15A",
           "#19d3f3",
           "#FF6692",
           "#B6E880",
           "#FF97FF",
           "#FECB52"
          ],
          "font": {
           "color": "#2a3f5f"
          },
          "geo": {
           "bgcolor": "white",
           "lakecolor": "white",
           "landcolor": "#E5ECF6",
           "showlakes": true,
           "showland": true,
           "subunitcolor": "white"
          },
          "hoverlabel": {
           "align": "left"
          },
          "hovermode": "closest",
          "mapbox": {
           "style": "light"
          },
          "paper_bgcolor": "white",
          "plot_bgcolor": "#E5ECF6",
          "polar": {
           "angularaxis": {
            "gridcolor": "white",
            "linecolor": "white",
            "ticks": ""
           },
           "bgcolor": "#E5ECF6",
           "radialaxis": {
            "gridcolor": "white",
            "linecolor": "white",
            "ticks": ""
           }
          },
          "scene": {
           "xaxis": {
            "backgroundcolor": "#E5ECF6",
            "gridcolor": "white",
            "gridwidth": 2,
            "linecolor": "white",
            "showbackground": true,
            "ticks": "",
            "zerolinecolor": "white"
           },
           "yaxis": {
            "backgroundcolor": "#E5ECF6",
            "gridcolor": "white",
            "gridwidth": 2,
            "linecolor": "white",
            "showbackground": true,
            "ticks": "",
            "zerolinecolor": "white"
           },
           "zaxis": {
            "backgroundcolor": "#E5ECF6",
            "gridcolor": "white",
            "gridwidth": 2,
            "linecolor": "white",
            "showbackground": true,
            "ticks": "",
            "zerolinecolor": "white"
           }
          },
          "shapedefaults": {
           "line": {
            "color": "#2a3f5f"
           }
          },
          "ternary": {
           "aaxis": {
            "gridcolor": "white",
            "linecolor": "white",
            "ticks": ""
           },
           "baxis": {
            "gridcolor": "white",
            "linecolor": "white",
            "ticks": ""
           },
           "bgcolor": "#E5ECF6",
           "caxis": {
            "gridcolor": "white",
            "linecolor": "white",
            "ticks": ""
           }
          },
          "title": {
           "x": 0.05
          },
          "xaxis": {
           "automargin": true,
           "gridcolor": "white",
           "linecolor": "white",
           "ticks": "",
           "title": {
            "standoff": 15
           },
           "zerolinecolor": "white",
           "zerolinewidth": 2
          },
          "yaxis": {
           "automargin": true,
           "gridcolor": "white",
           "linecolor": "white",
           "ticks": "",
           "title": {
            "standoff": 15
           },
           "zerolinecolor": "white",
           "zerolinewidth": 2
          }
         }
        },
        "title": {
         "font": {
          "color": "#4D5663"
         }
        },
        "xaxis": {
         "gridcolor": "#E1E5ED",
         "showgrid": true,
         "tickfont": {
          "color": "#4D5663"
         },
         "title": {
          "font": {
           "color": "#4D5663"
          },
          "text": ""
         },
         "zerolinecolor": "#E1E5ED"
        },
        "yaxis": {
         "gridcolor": "#E1E5ED",
         "showgrid": true,
         "tickfont": {
          "color": "#4D5663"
         },
         "title": {
          "font": {
           "color": "#4D5663"
          },
          "text": ""
         },
         "zerolinecolor": "#E1E5ED"
        }
       }
      },
      "text/html": [
       "<div>                            <div id=\"1664ecbe-8f6e-45e9-8b5d-6a9379c545f2\" class=\"plotly-graph-div\" style=\"height:525px; width:100%;\"></div>            <script type=\"text/javascript\">                require([\"plotly\"], function(Plotly) {                    window.PLOTLYENV=window.PLOTLYENV || {};\n",
       "                    window.PLOTLYENV.BASE_URL='https://plot.ly';                                    if (document.getElementById(\"1664ecbe-8f6e-45e9-8b5d-6a9379c545f2\")) {                    Plotly.newPlot(                        \"1664ecbe-8f6e-45e9-8b5d-6a9379c545f2\",                        [{\"colorscale\":[[0.0,\"rgb(255, 153, 51)\"],[0.1111111111111111,\"rgb(55, 128, 191)\"],[0.2222222222222222,\"rgb(50, 171, 96)\"],[0.3333333333333333,\"rgb(128, 0, 128)\"],[0.4444444444444444,\"rgb(219, 64, 82)\"],[0.5555555555555556,\"rgb(0, 128, 128)\"],[0.6666666666666666,\"rgb(255, 255, 51)\"],[0.7777777777777778,\"rgb(128, 128, 0)\"],[0.8888888888888888,\"rgb(251, 128, 114)\"],[1.0,\"rgb(128, 177, 211)\"]],\"type\":\"surface\",\"x\":[0,1,2,3,4,5,6,7,8,9,10,11,12,13,14,15,16,17,18,19,20,21,22,23,24,25,26,27,28,29,30,31,32,33,34,35,36,37,38,39,40,41,42,43,44,45,46,47,48,49,50,51,52,53,54,55,56,57,58,59,60,61,62,63,64,65,66,67,68,69,70,71,72,73,74,75,76,77,78,79,80,81,82,83,84,85,86,87,88,89,90,91,92,93,94,95,96,97,98,99],\"y\":[\"A\",\"C\"],\"z\":[[0.3001079680036066,0.44266496554311197,0.3931115055668375,0.2105639117205932,0.8375484938456841,0.12603745921575926,0.4889574761062154,0.4624233276977576,0.4240246700813709,0.9437534212847856,0.18125493664363623,0.7466724863328661,0.9117098271114428,0.8479455805828163,0.5194638581849347,0.8093357455305831,0.3975578811356747,0.8199106021817028,0.4844634946102564,0.845784729853387,0.22165154549868726,0.8696387506154775,0.18082660599491862,0.18351406745671384,0.865362718970213,0.3283462666487683,0.47668585631273475,0.06412582919362642,0.7169334558129548,0.6570005381785875,0.3133430036537187,0.7535830701905505,0.13867469961943368,0.03947952994516324,0.633297165020249,0.5286638282956272,0.8754637427040448,0.6921580678546031,0.3842047590038429,0.9081593826555322,0.8210059468954076,0.4306227874753925,0.06724112161662099,0.6112539531953903,0.6780106819266348,0.9661363961239782,0.6648489757717398,0.7995656401764207,0.17193952650528888,0.32266722629007016,0.8945030092515607,0.7618273377073761,0.06339271674450664,0.5955627289220463,0.7219172010345682,0.3962615688468949,0.7239644495100861,0.8993195014578762,0.5050549702772239,0.8080632917970997,0.15791801474909628,0.9533831631764683,0.7206986562438692,0.21366652372460604,0.45854129123788245,0.19623168803688684,0.4720350993916801,0.36135407633462624,0.2615803072527014,0.912463990411242,0.6627313639000009,0.7855531096232712,0.7264154756295995,0.8059427291381719,0.47039721147070046,0.5497212328060499,0.24270513424592255,0.3402678681834055,0.25847026946859564,0.503217625852641,0.6316569378776774,0.09500003189853579,0.8743231116026394,0.8580649773292277,0.30117856616442606,0.28941786166135275,0.29640700742418735,0.49928141065302445,0.8041820582857947,0.922359783085822,0.6917412907094008,0.8739346508098393,0.5260779689621599,0.3034901655538449,0.6390414462621012,0.7682673704030689,0.48806290005520425,0.13097553280655183,0.2623883955189321,0.6896610387986376],[0.8162247732021412,0.9622881834174966,0.8647596551005858,0.9132565754744489,0.3084655030938198,0.054592002588126576,0.6469507520982797,0.8378163022814341,0.6292269793173987,0.18269260007046995,0.4249362731988938,0.7250994270816271,0.7693113243963058,0.272484341459878,0.8674558029788304,0.6479969642059042,0.38701623871553303,0.3732978155303146,0.671475957019754,0.1139851019637741,0.6230516302694318,0.717680965147726,0.13191637710577897,0.6799120232143154,0.5906878829728975,0.744871717217073,0.9715964299329302,0.2123435655017939,0.13261069615490872,0.6353810221135698,0.367920891450464,0.2901659240947174,0.7479828354821019,0.766485587585118,0.6559258982561639,0.22808003489851336,0.09538992250486655,0.6766571546154883,0.8690213501639494,0.6742017900974286,0.48842101016975203,0.8709385778228315,0.7762693191421255,0.5474230498484705,0.47088626110001175,0.9884577402355187,0.730294045369087,0.7510989815909904,0.5852477005919824,0.6829314845016041,0.05828550052827919,0.023785874523379325,0.5952659530551355,0.23696452335862905,0.4062877606189188,0.36879835248494297,0.12493482923332799,0.9027567540259495,0.807367823455211,0.1443683583444635,0.8898615880391576,0.180100142011425,0.5650744776304879,0.3025737603521824,0.8287672213494954,0.8021688877591904,0.15451411765335443,0.11961567521369998,0.39759109452809405,0.11903645244509864,0.3523930570030639,0.5549320282831595,0.5956219783857617,0.9022207574676057,0.6065827238060318,0.3515157265759149,0.008958711216787263,0.858658265663318,0.6698362436988552,0.6292153046530548,0.4667280667288325,0.8043317968745893,0.5908319849994939,0.027312557113323477,0.45688103991882345,0.38129158166256405,0.6204875199273598,0.12235791982707123,0.41677489864490336,0.5526106222775273,0.8271699628593884,0.8010000660674927,0.7583113715856562,0.7708561517126076,0.0013444160435543973,0.6389189037323136,0.5991939617227071,0.8651887521524549,0.6294617241169079,0.047727928297942035]]}],                        {\"legend\":{\"bgcolor\":\"#F5F6F9\",\"font\":{\"color\":\"#4D5663\"}},\"paper_bgcolor\":\"#F5F6F9\",\"plot_bgcolor\":\"#F5F6F9\",\"template\":{\"data\":{\"bar\":[{\"error_x\":{\"color\":\"#2a3f5f\"},\"error_y\":{\"color\":\"#2a3f5f\"},\"marker\":{\"line\":{\"color\":\"#E5ECF6\",\"width\":0.5},\"pattern\":{\"fillmode\":\"overlay\",\"size\":10,\"solidity\":0.2}},\"type\":\"bar\"}],\"barpolar\":[{\"marker\":{\"line\":{\"color\":\"#E5ECF6\",\"width\":0.5},\"pattern\":{\"fillmode\":\"overlay\",\"size\":10,\"solidity\":0.2}},\"type\":\"barpolar\"}],\"carpet\":[{\"aaxis\":{\"endlinecolor\":\"#2a3f5f\",\"gridcolor\":\"white\",\"linecolor\":\"white\",\"minorgridcolor\":\"white\",\"startlinecolor\":\"#2a3f5f\"},\"baxis\":{\"endlinecolor\":\"#2a3f5f\",\"gridcolor\":\"white\",\"linecolor\":\"white\",\"minorgridcolor\":\"white\",\"startlinecolor\":\"#2a3f5f\"},\"type\":\"carpet\"}],\"choropleth\":[{\"colorbar\":{\"outlinewidth\":0,\"ticks\":\"\"},\"type\":\"choropleth\"}],\"contour\":[{\"colorbar\":{\"outlinewidth\":0,\"ticks\":\"\"},\"colorscale\":[[0.0,\"#0d0887\"],[0.1111111111111111,\"#46039f\"],[0.2222222222222222,\"#7201a8\"],[0.3333333333333333,\"#9c179e\"],[0.4444444444444444,\"#bd3786\"],[0.5555555555555556,\"#d8576b\"],[0.6666666666666666,\"#ed7953\"],[0.7777777777777778,\"#fb9f3a\"],[0.8888888888888888,\"#fdca26\"],[1.0,\"#f0f921\"]],\"type\":\"contour\"}],\"contourcarpet\":[{\"colorbar\":{\"outlinewidth\":0,\"ticks\":\"\"},\"type\":\"contourcarpet\"}],\"heatmap\":[{\"colorbar\":{\"outlinewidth\":0,\"ticks\":\"\"},\"colorscale\":[[0.0,\"#0d0887\"],[0.1111111111111111,\"#46039f\"],[0.2222222222222222,\"#7201a8\"],[0.3333333333333333,\"#9c179e\"],[0.4444444444444444,\"#bd3786\"],[0.5555555555555556,\"#d8576b\"],[0.6666666666666666,\"#ed7953\"],[0.7777777777777778,\"#fb9f3a\"],[0.8888888888888888,\"#fdca26\"],[1.0,\"#f0f921\"]],\"type\":\"heatmap\"}],\"heatmapgl\":[{\"colorbar\":{\"outlinewidth\":0,\"ticks\":\"\"},\"colorscale\":[[0.0,\"#0d0887\"],[0.1111111111111111,\"#46039f\"],[0.2222222222222222,\"#7201a8\"],[0.3333333333333333,\"#9c179e\"],[0.4444444444444444,\"#bd3786\"],[0.5555555555555556,\"#d8576b\"],[0.6666666666666666,\"#ed7953\"],[0.7777777777777778,\"#fb9f3a\"],[0.8888888888888888,\"#fdca26\"],[1.0,\"#f0f921\"]],\"type\":\"heatmapgl\"}],\"histogram\":[{\"marker\":{\"pattern\":{\"fillmode\":\"overlay\",\"size\":10,\"solidity\":0.2}},\"type\":\"histogram\"}],\"histogram2d\":[{\"colorbar\":{\"outlinewidth\":0,\"ticks\":\"\"},\"colorscale\":[[0.0,\"#0d0887\"],[0.1111111111111111,\"#46039f\"],[0.2222222222222222,\"#7201a8\"],[0.3333333333333333,\"#9c179e\"],[0.4444444444444444,\"#bd3786\"],[0.5555555555555556,\"#d8576b\"],[0.6666666666666666,\"#ed7953\"],[0.7777777777777778,\"#fb9f3a\"],[0.8888888888888888,\"#fdca26\"],[1.0,\"#f0f921\"]],\"type\":\"histogram2d\"}],\"histogram2dcontour\":[{\"colorbar\":{\"outlinewidth\":0,\"ticks\":\"\"},\"colorscale\":[[0.0,\"#0d0887\"],[0.1111111111111111,\"#46039f\"],[0.2222222222222222,\"#7201a8\"],[0.3333333333333333,\"#9c179e\"],[0.4444444444444444,\"#bd3786\"],[0.5555555555555556,\"#d8576b\"],[0.6666666666666666,\"#ed7953\"],[0.7777777777777778,\"#fb9f3a\"],[0.8888888888888888,\"#fdca26\"],[1.0,\"#f0f921\"]],\"type\":\"histogram2dcontour\"}],\"mesh3d\":[{\"colorbar\":{\"outlinewidth\":0,\"ticks\":\"\"},\"type\":\"mesh3d\"}],\"parcoords\":[{\"line\":{\"colorbar\":{\"outlinewidth\":0,\"ticks\":\"\"}},\"type\":\"parcoords\"}],\"pie\":[{\"automargin\":true,\"type\":\"pie\"}],\"scatter\":[{\"marker\":{\"colorbar\":{\"outlinewidth\":0,\"ticks\":\"\"}},\"type\":\"scatter\"}],\"scatter3d\":[{\"line\":{\"colorbar\":{\"outlinewidth\":0,\"ticks\":\"\"}},\"marker\":{\"colorbar\":{\"outlinewidth\":0,\"ticks\":\"\"}},\"type\":\"scatter3d\"}],\"scattercarpet\":[{\"marker\":{\"colorbar\":{\"outlinewidth\":0,\"ticks\":\"\"}},\"type\":\"scattercarpet\"}],\"scattergeo\":[{\"marker\":{\"colorbar\":{\"outlinewidth\":0,\"ticks\":\"\"}},\"type\":\"scattergeo\"}],\"scattergl\":[{\"marker\":{\"colorbar\":{\"outlinewidth\":0,\"ticks\":\"\"}},\"type\":\"scattergl\"}],\"scattermapbox\":[{\"marker\":{\"colorbar\":{\"outlinewidth\":0,\"ticks\":\"\"}},\"type\":\"scattermapbox\"}],\"scatterpolar\":[{\"marker\":{\"colorbar\":{\"outlinewidth\":0,\"ticks\":\"\"}},\"type\":\"scatterpolar\"}],\"scatterpolargl\":[{\"marker\":{\"colorbar\":{\"outlinewidth\":0,\"ticks\":\"\"}},\"type\":\"scatterpolargl\"}],\"scatterternary\":[{\"marker\":{\"colorbar\":{\"outlinewidth\":0,\"ticks\":\"\"}},\"type\":\"scatterternary\"}],\"surface\":[{\"colorbar\":{\"outlinewidth\":0,\"ticks\":\"\"},\"colorscale\":[[0.0,\"#0d0887\"],[0.1111111111111111,\"#46039f\"],[0.2222222222222222,\"#7201a8\"],[0.3333333333333333,\"#9c179e\"],[0.4444444444444444,\"#bd3786\"],[0.5555555555555556,\"#d8576b\"],[0.6666666666666666,\"#ed7953\"],[0.7777777777777778,\"#fb9f3a\"],[0.8888888888888888,\"#fdca26\"],[1.0,\"#f0f921\"]],\"type\":\"surface\"}],\"table\":[{\"cells\":{\"fill\":{\"color\":\"#EBF0F8\"},\"line\":{\"color\":\"white\"}},\"header\":{\"fill\":{\"color\":\"#C8D4E3\"},\"line\":{\"color\":\"white\"}},\"type\":\"table\"}]},\"layout\":{\"annotationdefaults\":{\"arrowcolor\":\"#2a3f5f\",\"arrowhead\":0,\"arrowwidth\":1},\"autotypenumbers\":\"strict\",\"coloraxis\":{\"colorbar\":{\"outlinewidth\":0,\"ticks\":\"\"}},\"colorscale\":{\"diverging\":[[0,\"#8e0152\"],[0.1,\"#c51b7d\"],[0.2,\"#de77ae\"],[0.3,\"#f1b6da\"],[0.4,\"#fde0ef\"],[0.5,\"#f7f7f7\"],[0.6,\"#e6f5d0\"],[0.7,\"#b8e186\"],[0.8,\"#7fbc41\"],[0.9,\"#4d9221\"],[1,\"#276419\"]],\"sequential\":[[0.0,\"#0d0887\"],[0.1111111111111111,\"#46039f\"],[0.2222222222222222,\"#7201a8\"],[0.3333333333333333,\"#9c179e\"],[0.4444444444444444,\"#bd3786\"],[0.5555555555555556,\"#d8576b\"],[0.6666666666666666,\"#ed7953\"],[0.7777777777777778,\"#fb9f3a\"],[0.8888888888888888,\"#fdca26\"],[1.0,\"#f0f921\"]],\"sequentialminus\":[[0.0,\"#0d0887\"],[0.1111111111111111,\"#46039f\"],[0.2222222222222222,\"#7201a8\"],[0.3333333333333333,\"#9c179e\"],[0.4444444444444444,\"#bd3786\"],[0.5555555555555556,\"#d8576b\"],[0.6666666666666666,\"#ed7953\"],[0.7777777777777778,\"#fb9f3a\"],[0.8888888888888888,\"#fdca26\"],[1.0,\"#f0f921\"]]},\"colorway\":[\"#636efa\",\"#EF553B\",\"#00cc96\",\"#ab63fa\",\"#FFA15A\",\"#19d3f3\",\"#FF6692\",\"#B6E880\",\"#FF97FF\",\"#FECB52\"],\"font\":{\"color\":\"#2a3f5f\"},\"geo\":{\"bgcolor\":\"white\",\"lakecolor\":\"white\",\"landcolor\":\"#E5ECF6\",\"showlakes\":true,\"showland\":true,\"subunitcolor\":\"white\"},\"hoverlabel\":{\"align\":\"left\"},\"hovermode\":\"closest\",\"mapbox\":{\"style\":\"light\"},\"paper_bgcolor\":\"white\",\"plot_bgcolor\":\"#E5ECF6\",\"polar\":{\"angularaxis\":{\"gridcolor\":\"white\",\"linecolor\":\"white\",\"ticks\":\"\"},\"bgcolor\":\"#E5ECF6\",\"radialaxis\":{\"gridcolor\":\"white\",\"linecolor\":\"white\",\"ticks\":\"\"}},\"scene\":{\"xaxis\":{\"backgroundcolor\":\"#E5ECF6\",\"gridcolor\":\"white\",\"gridwidth\":2,\"linecolor\":\"white\",\"showbackground\":true,\"ticks\":\"\",\"zerolinecolor\":\"white\"},\"yaxis\":{\"backgroundcolor\":\"#E5ECF6\",\"gridcolor\":\"white\",\"gridwidth\":2,\"linecolor\":\"white\",\"showbackground\":true,\"ticks\":\"\",\"zerolinecolor\":\"white\"},\"zaxis\":{\"backgroundcolor\":\"#E5ECF6\",\"gridcolor\":\"white\",\"gridwidth\":2,\"linecolor\":\"white\",\"showbackground\":true,\"ticks\":\"\",\"zerolinecolor\":\"white\"}},\"shapedefaults\":{\"line\":{\"color\":\"#2a3f5f\"}},\"ternary\":{\"aaxis\":{\"gridcolor\":\"white\",\"linecolor\":\"white\",\"ticks\":\"\"},\"baxis\":{\"gridcolor\":\"white\",\"linecolor\":\"white\",\"ticks\":\"\"},\"bgcolor\":\"#E5ECF6\",\"caxis\":{\"gridcolor\":\"white\",\"linecolor\":\"white\",\"ticks\":\"\"}},\"title\":{\"x\":0.05},\"xaxis\":{\"automargin\":true,\"gridcolor\":\"white\",\"linecolor\":\"white\",\"ticks\":\"\",\"title\":{\"standoff\":15},\"zerolinecolor\":\"white\",\"zerolinewidth\":2},\"yaxis\":{\"automargin\":true,\"gridcolor\":\"white\",\"linecolor\":\"white\",\"ticks\":\"\",\"title\":{\"standoff\":15},\"zerolinecolor\":\"white\",\"zerolinewidth\":2}}},\"title\":{\"font\":{\"color\":\"#4D5663\"}},\"xaxis\":{\"gridcolor\":\"#E1E5ED\",\"showgrid\":true,\"tickfont\":{\"color\":\"#4D5663\"},\"title\":{\"font\":{\"color\":\"#4D5663\"},\"text\":\"\"},\"zerolinecolor\":\"#E1E5ED\"},\"yaxis\":{\"gridcolor\":\"#E1E5ED\",\"showgrid\":true,\"tickfont\":{\"color\":\"#4D5663\"},\"title\":{\"font\":{\"color\":\"#4D5663\"},\"text\":\"\"},\"zerolinecolor\":\"#E1E5ED\"}},                        {\"showLink\": true, \"linkText\": \"Export to plot.ly\", \"plotlyServerURL\": \"https://plot.ly\", \"responsive\": true}                    ).then(function(){\n",
       "                            \n",
       "var gd = document.getElementById('1664ecbe-8f6e-45e9-8b5d-6a9379c545f2');\n",
       "var x = new MutationObserver(function (mutations, observer) {{\n",
       "        var display = window.getComputedStyle(gd).display;\n",
       "        if (!display || display === 'none') {{\n",
       "            console.log([gd, 'removed!']);\n",
       "            Plotly.purge(gd);\n",
       "            observer.disconnect();\n",
       "        }}\n",
       "}});\n",
       "\n",
       "// Listen for the removal of the full notebook cells\n",
       "var notebookContainer = gd.closest('#notebook-container');\n",
       "if (notebookContainer) {{\n",
       "    x.observe(notebookContainer, {childList: true});\n",
       "}}\n",
       "\n",
       "// Listen for the clearing of the current output cell\n",
       "var outputEl = gd.closest('.output');\n",
       "if (outputEl) {{\n",
       "    x.observe(outputEl, {childList: true});\n",
       "}}\n",
       "\n",
       "                        })                };                });            </script>        </div>"
      ]
     },
     "metadata": {},
     "output_type": "display_data"
    }
   ],
   "source": [
    "main(cat)"
   ]
  },
  {
   "cell_type": "code",
   "execution_count": null,
   "id": "1ae42978",
   "metadata": {},
   "outputs": [],
   "source": []
  }
 ],
 "metadata": {
  "kernelspec": {
   "display_name": "Python 3",
   "language": "python",
   "name": "python3"
  },
  "language_info": {
   "codemirror_mode": {
    "name": "ipython",
    "version": 3
   },
   "file_extension": ".py",
   "mimetype": "text/x-python",
   "name": "python",
   "nbconvert_exporter": "python",
   "pygments_lexer": "ipython3",
   "version": "3.8.8"
  }
 },
 "nbformat": 4,
 "nbformat_minor": 5
}
