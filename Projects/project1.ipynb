{
 "cells": [
  {
   "cell_type": "code",
   "execution_count": 1,
   "id": "d9b37588",
   "metadata": {},
   "outputs": [],
   "source": [
    "import numpy as np\n",
    "import pandas as pd\n",
    "import plotly as pl\n",
    "import plotly.offline as po\n",
    "import cufflinks as cf\n"
   ]
  },
  {
   "cell_type": "code",
   "execution_count": 2,
   "id": "1be47e44",
   "metadata": {},
   "outputs": [
    {
     "data": {
      "text/html": [
       "        <script type=\"text/javascript\">\n",
       "        window.PlotlyConfig = {MathJaxConfig: 'local'};\n",
       "        if (window.MathJax) {MathJax.Hub.Config({SVG: {font: \"STIX-Web\"}});}\n",
       "        if (typeof require !== 'undefined') {\n",
       "        require.undef(\"plotly\");\n",
       "        requirejs.config({\n",
       "            paths: {\n",
       "                'plotly': ['https://cdn.plot.ly/plotly-2.4.2.min']\n",
       "            }\n",
       "        });\n",
       "        require(['plotly'], function(Plotly) {\n",
       "            window._Plotly = Plotly;\n",
       "        });\n",
       "        }\n",
       "        </script>\n",
       "        "
      ]
     },
     "metadata": {},
     "output_type": "display_data"
    },
    {
     "data": {
      "text/html": [
       "        <script type=\"text/javascript\">\n",
       "        window.PlotlyConfig = {MathJaxConfig: 'local'};\n",
       "        if (window.MathJax) {MathJax.Hub.Config({SVG: {font: \"STIX-Web\"}});}\n",
       "        if (typeof require !== 'undefined') {\n",
       "        require.undef(\"plotly\");\n",
       "        requirejs.config({\n",
       "            paths: {\n",
       "                'plotly': ['https://cdn.plot.ly/plotly-2.4.2.min']\n",
       "            }\n",
       "        });\n",
       "        require(['plotly'], function(Plotly) {\n",
       "            window._Plotly = Plotly;\n",
       "        });\n",
       "        }\n",
       "        </script>\n",
       "        "
      ]
     },
     "metadata": {},
     "output_type": "display_data"
    }
   ],
   "source": [
    "po.init_notebook_mode(connected=True)\n",
    "cf.go_offline()"
   ]
  },
  {
   "cell_type": "code",
   "execution_count": null,
   "id": "da9b8124",
   "metadata": {},
   "outputs": [],
   "source": [
    "def createdata(data):\n",
    "    if(data==1):\n",
    "        x=np.random.rand(100,5)\n",
    "        df1=pd.DataFrame(x,columns=['A','B','C','D','E'])\n",
    "    elif(data==2):\n",
    "        x=[0,0,0,0,0]\n",
    "        r1=[0,0,0,0,0]\n",
    "        r2=[0,0,0,0,0]\n",
    "        r3=[0,0,0,0,0]\n",
    "        r4=[0,0,0,0,0]\n",
    "        print('Enter the values of columns')\n",
    "        i=0\n",
    "        for i in [0,1,2,3,4]:\n",
    "            x[i]=input()\n",
    "            i=i+1\n",
    "        print('Enter the values for first row ')\n",
    "        for i in [0,1,2,3,4]:\n",
    "            r1[i]=int(input())\n",
    "            i=i+1\n",
    "        print('Enter the values for second row ')\n",
    "        for i in [0,1,2,3,4]:\n",
    "            r2[i]=int(input())\n",
    "            i=i+1\n",
    "        print('Enter the values of third row ')\n",
    "        for i in [0,1,2,3,4]:\n",
    "            r3[i]=int(input())\n",
    "            i=i+1\n",
    "        print('Enter the values of fourth row ')\n",
    "        for i in [0,1,2,3,4]:\n",
    "            r4[i]=int(input())\n",
    "            i=i+1   \n",
    "        df1=pd.DataFrame([r1,r2,r3,r4],columns=x)\n",
    "    elif(data==3):\n",
    "        file=input('Enter the file name ')\n",
    "        x=pd.read_csv(file)\n",
    "        df1=pd.DataFrame(x)\n",
    "    else:\n",
    "        print('Data Can not be created please re-enter the required value!! ')\n",
    "    return df1      \n",
    "                                    \n",
    "        \n",
    "    \n",
    "        "
   ]
  },
  {
   "cell_type": "code",
   "execution_count": null,
   "id": "f665e776",
   "metadata": {},
   "outputs": [],
   "source": []
  },
  {
   "cell_type": "code",
   "execution_count": null,
   "id": "9821c602",
   "metadata": {},
   "outputs": [],
   "source": []
  },
  {
   "cell_type": "code",
   "execution_count": null,
   "id": "98b4d3a0",
   "metadata": {},
   "outputs": [],
   "source": []
  },
  {
   "cell_type": "code",
   "execution_count": null,
   "id": "3a8d3860",
   "metadata": {},
   "outputs": [],
   "source": []
  },
  {
   "cell_type": "code",
   "execution_count": null,
   "id": "4ad0019f",
   "metadata": {},
   "outputs": [
    {
     "name": "stdout",
     "output_type": "stream",
     "text": [
      "Select the type of Data you want to plot (by selecting 1,2 or 3 )\n",
      "1. Random data with 100 rows and 5 columns \n",
      "2. Customize DataFrame with 5 columns and 4 rows \n",
      "3. Upload csv/json/txt file\n"
     ]
    }
   ],
   "source": [
    "print('Select the type of Data you want to plot (by selecting 1,2 or 3 )')\n",
    "print('1. Random data with 100 rows and 5 columns ')\n",
    "print('2. Customize DataFrame with 5 columns and 4 rows ')\n",
    "print('3. Upload csv/json/txt file')\n",
    "data=int(input())\n",
    "df1=createdata(data)"
   ]
  },
  {
   "cell_type": "markdown",
   "id": "21f3780c",
   "metadata": {},
   "source": []
  },
  {
   "cell_type": "code",
   "execution_count": 6,
   "id": "2ecb1f23",
   "metadata": {},
   "outputs": [
    {
     "data": {
      "text/html": [
       "<div>\n",
       "<style scoped>\n",
       "    .dataframe tbody tr th:only-of-type {\n",
       "        vertical-align: middle;\n",
       "    }\n",
       "\n",
       "    .dataframe tbody tr th {\n",
       "        vertical-align: top;\n",
       "    }\n",
       "\n",
       "    .dataframe thead th {\n",
       "        text-align: right;\n",
       "    }\n",
       "</style>\n",
       "<table border=\"1\" class=\"dataframe\">\n",
       "  <thead>\n",
       "    <tr style=\"text-align: right;\">\n",
       "      <th></th>\n",
       "      <th>A</th>\n",
       "      <th>B</th>\n",
       "      <th>C</th>\n",
       "      <th>D</th>\n",
       "      <th>E</th>\n",
       "    </tr>\n",
       "  </thead>\n",
       "  <tbody>\n",
       "    <tr>\n",
       "      <th>0</th>\n",
       "      <td>0.445909</td>\n",
       "      <td>0.485551</td>\n",
       "      <td>0.192487</td>\n",
       "      <td>0.122906</td>\n",
       "      <td>0.802542</td>\n",
       "    </tr>\n",
       "    <tr>\n",
       "      <th>1</th>\n",
       "      <td>0.880574</td>\n",
       "      <td>0.206715</td>\n",
       "      <td>0.466485</td>\n",
       "      <td>0.375255</td>\n",
       "      <td>0.639292</td>\n",
       "    </tr>\n",
       "    <tr>\n",
       "      <th>2</th>\n",
       "      <td>0.035046</td>\n",
       "      <td>0.320721</td>\n",
       "      <td>0.552628</td>\n",
       "      <td>0.259906</td>\n",
       "      <td>0.869860</td>\n",
       "    </tr>\n",
       "    <tr>\n",
       "      <th>3</th>\n",
       "      <td>0.566269</td>\n",
       "      <td>0.701641</td>\n",
       "      <td>0.950947</td>\n",
       "      <td>0.297253</td>\n",
       "      <td>0.248507</td>\n",
       "    </tr>\n",
       "    <tr>\n",
       "      <th>4</th>\n",
       "      <td>0.117602</td>\n",
       "      <td>0.329400</td>\n",
       "      <td>0.019134</td>\n",
       "      <td>0.288428</td>\n",
       "      <td>0.115199</td>\n",
       "    </tr>\n",
       "    <tr>\n",
       "      <th>5</th>\n",
       "      <td>0.534561</td>\n",
       "      <td>0.309478</td>\n",
       "      <td>0.960877</td>\n",
       "      <td>0.805553</td>\n",
       "      <td>0.114127</td>\n",
       "    </tr>\n",
       "    <tr>\n",
       "      <th>6</th>\n",
       "      <td>0.567479</td>\n",
       "      <td>0.333953</td>\n",
       "      <td>0.808854</td>\n",
       "      <td>0.319157</td>\n",
       "      <td>0.871809</td>\n",
       "    </tr>\n",
       "    <tr>\n",
       "      <th>7</th>\n",
       "      <td>0.478955</td>\n",
       "      <td>0.310433</td>\n",
       "      <td>0.753684</td>\n",
       "      <td>0.919459</td>\n",
       "      <td>0.790322</td>\n",
       "    </tr>\n",
       "    <tr>\n",
       "      <th>8</th>\n",
       "      <td>0.970817</td>\n",
       "      <td>0.363555</td>\n",
       "      <td>0.552397</td>\n",
       "      <td>0.421068</td>\n",
       "      <td>0.672520</td>\n",
       "    </tr>\n",
       "    <tr>\n",
       "      <th>9</th>\n",
       "      <td>0.958873</td>\n",
       "      <td>0.690541</td>\n",
       "      <td>0.503370</td>\n",
       "      <td>0.829204</td>\n",
       "      <td>0.454850</td>\n",
       "    </tr>\n",
       "  </tbody>\n",
       "</table>\n",
       "</div>"
      ],
      "text/plain": [
       "          A         B         C         D         E\n",
       "0  0.445909  0.485551  0.192487  0.122906  0.802542\n",
       "1  0.880574  0.206715  0.466485  0.375255  0.639292\n",
       "2  0.035046  0.320721  0.552628  0.259906  0.869860\n",
       "3  0.566269  0.701641  0.950947  0.297253  0.248507\n",
       "4  0.117602  0.329400  0.019134  0.288428  0.115199\n",
       "5  0.534561  0.309478  0.960877  0.805553  0.114127\n",
       "6  0.567479  0.333953  0.808854  0.319157  0.871809\n",
       "7  0.478955  0.310433  0.753684  0.919459  0.790322\n",
       "8  0.970817  0.363555  0.552397  0.421068  0.672520\n",
       "9  0.958873  0.690541  0.503370  0.829204  0.454850"
      ]
     },
     "execution_count": 6,
     "metadata": {},
     "output_type": "execute_result"
    }
   ],
   "source": [
    "df1.head(10)"
   ]
  },
  {
   "cell_type": "code",
   "execution_count": null,
   "id": "7c28cc1e",
   "metadata": {},
   "outputs": [],
   "source": []
  }
 ],
 "metadata": {
  "kernelspec": {
   "display_name": "Python 3",
   "language": "python",
   "name": "python3"
  },
  "language_info": {
   "codemirror_mode": {
    "name": "ipython",
    "version": 3
   },
   "file_extension": ".py",
   "mimetype": "text/x-python",
   "name": "python",
   "nbconvert_exporter": "python",
   "pygments_lexer": "ipython3",
   "version": "3.8.8"
  }
 },
 "nbformat": 4,
 "nbformat_minor": 5
}
